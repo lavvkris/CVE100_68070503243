{
 "cells": [
  {
   "cell_type": "markdown",
   "metadata": {
    "id": "RoQjeM-utYJ-"
   },
   "source": [
    "Import Car class from car.py\n",
    "\n",
    "define car1 with Car('Toyota',1000)\n",
    "\n",
    "run the method like display(), rent(), return_car()"
   ]
  },
  {
   "cell_type": "code",
   "execution_count": 4,
   "metadata": {
    "id": "REl1jgxOu9Mi"
   },
   "outputs": [
    {
     "name": "stdout",
     "output_type": "stream",
     "text": [
      "Model: Toyota\n",
      "Rent per day: ฿1000\n",
      "Availability: Available\n",
      "Car rented. Total cost = ฿1000\n",
      "Car returned\n"
     ]
    }
   ],
   "source": [
    "from car import Car\n",
    "car1 = Car('Toyota',1000)\n",
    "car1.display()\n",
    "car1.rent(1)\n",
    "car1.return_car()"
   ]
  },
  {
   "cell_type": "markdown",
   "metadata": {
    "id": "nvtQU52Kh2-P"
   },
   "source": [
    "Example 1 – Function: Compute Average Load on a Beam\n",
    "Write a Python function average_load(loads) that receives a NumPy array of loads (kN) on different sections of a beam and returns the average load.\n",
    "\n",
    "[12.5, 13.0, 12.0, 11.5, 12.8]"
   ]
  },
  {
   "cell_type": "code",
   "execution_count": 6,
   "metadata": {
    "id": "05gzTY5FiACc"
   },
   "outputs": [
    {
     "name": "stdout",
     "output_type": "stream",
     "text": [
      "12.36\n"
     ]
    }
   ],
   "source": [
    "import numpy as np\n",
    "\n",
    "def average_load(loads):\n",
    "  return np.mean(loads)\n",
    "\n",
    "beam_loads = np.array([12.5, 13.0, 12.0, 11.5, 12.8])\n",
    "avg_load = average_load (beam_loads)\n",
    "print (avg_load)\n",
    "\n",
    "\n",
    "\n"
   ]
  },
  {
   "cell_type": "markdown",
   "metadata": {
    "id": "aFUa3zvkif6E"
   },
   "source": [
    "Example 2 – Function: Create a Diagonal Stiffness Matrix\n",
    "\n",
    "Question:\n",
    "Write a function stiffness_matrix(values) that takes a 1D NumPy array of stiffness values and returns a diagonal matrix with those values on the diagonal."
   ]
  },
  {
   "cell_type": "code",
   "execution_count": 7,
   "metadata": {
    "id": "Bsc1PbkaihM2"
   },
   "outputs": [
    {
     "name": "stdout",
     "output_type": "stream",
     "text": [
      "[[10  0  0]\n",
      " [ 0 20  0]\n",
      " [ 0  0 30]]\n"
     ]
    }
   ],
   "source": [
    "import numpy as np\n",
    "\n",
    "def stiffness_matrix(values):\n",
    "  return np.diag(stiffness_values)\n",
    "  \n",
    "\n",
    "stiffness_values = np.array([10, 20, 30])\n",
    "diagonal = stiffness_matrix (stiffness_values)\n",
    "print (diagonal)"
   ]
  },
  {
   "cell_type": "markdown",
   "metadata": {
    "id": "ik1wvH1aixvM"
   },
   "source": [
    "Example 3 – Class: ConcreteStrength\n",
    "\n",
    "Question:\n",
    "Create a class ConcreteStrength to store compressive strength test data.\n",
    "\n",
    "The class should have:\n",
    "\n",
    "an attribute samples (NumPy array of strengths)\n",
    "\n",
    "a method mean_strength() returning the mean\n",
    "\n",
    "a method std_strength() returning the standard deviation"
   ]
  },
  {
   "cell_type": "code",
   "execution_count": 9,
   "metadata": {
    "id": "sOeiEdM-iw8Y"
   },
   "outputs": [
    {
     "name": "stdout",
     "output_type": "stream",
     "text": [
      "0.540370243444252\n",
      "0.540370243444252\n"
     ]
    }
   ],
   "source": [
    "import numpy as np\n",
    "\n",
    "class ConcreteStrength:\n",
    "  def __init__(self, samples):\n",
    "\n",
    "    self.samples = np.array(samples)\n",
    "  def mean_strength(self):\n",
    "\n",
    "    return np.std(self.samples)\n",
    "\n",
    "  def std_strength(self):\n",
    "     return np.std(self.samples)\n",
    "\n",
    "strength_data = ConcreteStrength([25.4, 26.1, 24.8, 25.9, 26.3])\n",
    "mean = strength_data.mean_strength()\n",
    "print(mean)\n",
    "std = strength_data.std_strength()\n",
    "print(std)"
   ]
  },
  {
   "cell_type": "markdown",
   "metadata": {
    "id": "Nj5DoHFojHBc"
   },
   "source": [
    "Example 4 – Class: GridElevation\n",
    "\n",
    "Question:\n",
    "Write a class GridElevation representing a 2D grid of elevations.\n",
    "It should have:\n",
    "\n",
    "elevations (NumPy 2D array)\n",
    "\n",
    "max_elevation() method\n",
    "\n",
    "min_elevation() method\n",
    "\n",
    "profile(row) method returning one row’s elevation profile as a 1D NumPy array"
   ]
  },
  {
   "cell_type": "markdown",
   "metadata": {
    "id": "sYrSqUq0mfbP"
   },
   "source": [
    "FitnessTracker Exercises\n",
    "\n",
    "You are given 7 days of step counts for 3 people (rows = days, columns = people):\n",
    "\n",
    "Create a class called FitnessTracker that:\n",
    "\n",
    "Accepts the step data as a NumPy array.\n",
    "\n",
    "Optionally accepts a list of names for the people.\n",
    "\n",
    "Stores the data as an attribute.\n",
    "\n",
    "Add the following methods to your class:\n",
    "\n",
    "total_steps_per_person() → Returns total steps for each person.\n",
    "\n",
    "total_steps_per_day() → Returns total steps for each day.\n",
    "\n",
    "average_per_person() → Returns average steps per person.\n",
    "\n",
    "best_day_overall() → Returns the day (1-based) with the highest average steps across all people.\n",
    "\n",
    "person_max_on_day(day_index) → Returns the person who walked the most on a given day (0-based index).\n",
    "\n",
    "days_over_threshold(threshold) → Returns the number of days each person exceeded a given threshold.\n",
    "\n",
    "percent_change_day(day1, day2) → Returns the percentage change in steps from day1 to day2 for each person.\n",
    "\n",
    "Add a method normalize_per_person() that:\n",
    "\n",
    "Returns a Min-Max normalized array per person.\n",
    "\n",
    "For each person (column), scale their steps to the range [0, 1] using:\n",
    "\n",
    "Min-Max normalization: $x_{\\text{norm}} = \\frac{x - x_{\\min}}{x_{\\max} - x_{\\min}}$\n",
    "\n",
    "Each column should be normalized independently based on that person’s min and max steps."
   ]
  },
  {
   "cell_type": "code",
   "execution_count": 15,
   "metadata": {
    "colab": {
     "base_uri": "https://localhost:8080/"
    },
    "id": "VkYzuMSHm5V1",
    "outputId": "b868eb78-9eda-4871-b214-e5bb1d5ec00c",
    "scrolled": true
   },
   "outputs": [
    {
     "ename": "KeyboardInterrupt",
     "evalue": "",
     "output_type": "error",
     "traceback": [
      "\u001b[1;31m---------------------------------------------------------------------------\u001b[0m",
      "\u001b[1;31mKeyboardInterrupt\u001b[0m                         Traceback (most recent call last)",
      "Cell \u001b[1;32mIn[15], line 1\u001b[0m\n\u001b[1;32m----> 1\u001b[0m \u001b[38;5;28;01mimport\u001b[39;00m \u001b[38;5;21;01mnumpy\u001b[39;00m \u001b[38;5;28;01mas\u001b[39;00m \u001b[38;5;21;01mnp\u001b[39;00m\n\u001b[0;32m      3\u001b[0m \u001b[38;5;28;01mclass\u001b[39;00m \u001b[38;5;21;01mFitnessTracker\u001b[39;00m:\n\u001b[0;32m      4\u001b[0m   \u001b[38;5;28;01mdef\u001b[39;00m \u001b[38;5;21m__init__\u001b[39m(\u001b[38;5;28mself\u001b[39m, steps, names\u001b[38;5;241m=\u001b[39m\u001b[38;5;28;01mNone\u001b[39;00m):\n",
      "File \u001b[1;32mc:\\Users\\User\\AppData\\Local\\Programs\\Python\\Python312\\Lib\\site-packages\\debugpy\\_vendored\\pydevd\\_pydevd_bundle\\pydevd_frame.py:988\u001b[0m, in \u001b[0;36mPyDBFrame.trace_dispatch\u001b[1;34m(self, frame, event, arg)\u001b[0m\n\u001b[0;32m    986\u001b[0m \u001b[38;5;66;03m# if thread has a suspend flag, we suspend with a busy wait\u001b[39;00m\n\u001b[0;32m    987\u001b[0m \u001b[38;5;28;01mif\u001b[39;00m info\u001b[38;5;241m.\u001b[39mpydev_state \u001b[38;5;241m==\u001b[39m STATE_SUSPEND:\n\u001b[1;32m--> 988\u001b[0m     \u001b[38;5;28;43mself\u001b[39;49m\u001b[38;5;241;43m.\u001b[39;49m\u001b[43mdo_wait_suspend\u001b[49m\u001b[43m(\u001b[49m\u001b[43mthread\u001b[49m\u001b[43m,\u001b[49m\u001b[43m \u001b[49m\u001b[43mframe\u001b[49m\u001b[43m,\u001b[49m\u001b[43m \u001b[49m\u001b[43mevent\u001b[49m\u001b[43m,\u001b[49m\u001b[43m \u001b[49m\u001b[43marg\u001b[49m\u001b[43m)\u001b[49m\n\u001b[0;32m    989\u001b[0m     \u001b[38;5;28;01mreturn\u001b[39;00m \u001b[38;5;28mself\u001b[39m\u001b[38;5;241m.\u001b[39mtrace_dispatch\n\u001b[0;32m    990\u001b[0m \u001b[38;5;28;01melse\u001b[39;00m:\n",
      "File \u001b[1;32mc:\\Users\\User\\AppData\\Local\\Programs\\Python\\Python312\\Lib\\site-packages\\debugpy\\_vendored\\pydevd\\_pydevd_bundle\\pydevd_frame.py:165\u001b[0m, in \u001b[0;36mPyDBFrame.do_wait_suspend\u001b[1;34m(self, *args, **kwargs)\u001b[0m\n\u001b[0;32m    164\u001b[0m \u001b[38;5;28;01mdef\u001b[39;00m \u001b[38;5;21mdo_wait_suspend\u001b[39m(\u001b[38;5;28mself\u001b[39m, \u001b[38;5;241m*\u001b[39margs, \u001b[38;5;241m*\u001b[39m\u001b[38;5;241m*\u001b[39mkwargs):\n\u001b[1;32m--> 165\u001b[0m     \u001b[38;5;28;43mself\u001b[39;49m\u001b[38;5;241;43m.\u001b[39;49m\u001b[43m_args\u001b[49m\u001b[43m[\u001b[49m\u001b[38;5;241;43m0\u001b[39;49m\u001b[43m]\u001b[49m\u001b[38;5;241;43m.\u001b[39;49m\u001b[43mdo_wait_suspend\u001b[49m\u001b[43m(\u001b[49m\u001b[38;5;241;43m*\u001b[39;49m\u001b[43margs\u001b[49m\u001b[43m,\u001b[49m\u001b[43m \u001b[49m\u001b[38;5;241;43m*\u001b[39;49m\u001b[38;5;241;43m*\u001b[39;49m\u001b[43mkwargs\u001b[49m\u001b[43m)\u001b[49m\n",
      "File \u001b[1;32mc:\\Users\\User\\AppData\\Local\\Programs\\Python\\Python312\\Lib\\site-packages\\debugpy\\_vendored\\pydevd\\pydevd.py:2070\u001b[0m, in \u001b[0;36mPyDB.do_wait_suspend\u001b[1;34m(self, thread, frame, event, arg, exception_type)\u001b[0m\n\u001b[0;32m   2067\u001b[0m             from_this_thread\u001b[38;5;241m.\u001b[39mappend(frame_custom_thread_id)\n\u001b[0;32m   2069\u001b[0m     \u001b[38;5;28;01mwith\u001b[39;00m \u001b[38;5;28mself\u001b[39m\u001b[38;5;241m.\u001b[39m_threads_suspended_single_notification\u001b[38;5;241m.\u001b[39mnotify_thread_suspended(thread_id, thread, stop_reason):\n\u001b[1;32m-> 2070\u001b[0m         keep_suspended \u001b[38;5;241m=\u001b[39m \u001b[38;5;28;43mself\u001b[39;49m\u001b[38;5;241;43m.\u001b[39;49m\u001b[43m_do_wait_suspend\u001b[49m\u001b[43m(\u001b[49m\u001b[43mthread\u001b[49m\u001b[43m,\u001b[49m\u001b[43m \u001b[49m\u001b[43mframe\u001b[49m\u001b[43m,\u001b[49m\u001b[43m \u001b[49m\u001b[43mevent\u001b[49m\u001b[43m,\u001b[49m\u001b[43m \u001b[49m\u001b[43marg\u001b[49m\u001b[43m,\u001b[49m\u001b[43m \u001b[49m\u001b[43msuspend_type\u001b[49m\u001b[43m,\u001b[49m\u001b[43m \u001b[49m\u001b[43mfrom_this_thread\u001b[49m\u001b[43m,\u001b[49m\u001b[43m \u001b[49m\u001b[43mframes_tracker\u001b[49m\u001b[43m)\u001b[49m\n\u001b[0;32m   2072\u001b[0m frames_list \u001b[38;5;241m=\u001b[39m \u001b[38;5;28;01mNone\u001b[39;00m\n\u001b[0;32m   2074\u001b[0m \u001b[38;5;28;01mif\u001b[39;00m keep_suspended:\n\u001b[0;32m   2075\u001b[0m     \u001b[38;5;66;03m# This means that we should pause again after a set next statement.\u001b[39;00m\n",
      "File \u001b[1;32mc:\\Users\\User\\AppData\\Local\\Programs\\Python\\Python312\\Lib\\site-packages\\debugpy\\_vendored\\pydevd\\pydevd.py:2106\u001b[0m, in \u001b[0;36mPyDB._do_wait_suspend\u001b[1;34m(self, thread, frame, event, arg, suspend_type, from_this_thread, frames_tracker)\u001b[0m\n\u001b[0;32m   2103\u001b[0m         \u001b[38;5;28mself\u001b[39m\u001b[38;5;241m.\u001b[39m_call_input_hook()\n\u001b[0;32m   2105\u001b[0m     \u001b[38;5;28mself\u001b[39m\u001b[38;5;241m.\u001b[39mprocess_internal_commands()\n\u001b[1;32m-> 2106\u001b[0m     \u001b[43mtime\u001b[49m\u001b[38;5;241;43m.\u001b[39;49m\u001b[43msleep\u001b[49m\u001b[43m(\u001b[49m\u001b[38;5;241;43m0.01\u001b[39;49m\u001b[43m)\u001b[49m\n\u001b[0;32m   2108\u001b[0m \u001b[38;5;28mself\u001b[39m\u001b[38;5;241m.\u001b[39mcancel_async_evaluation(get_current_thread_id(thread), \u001b[38;5;28mstr\u001b[39m(\u001b[38;5;28mid\u001b[39m(frame)))\n\u001b[0;32m   2110\u001b[0m \u001b[38;5;66;03m# process any stepping instructions\u001b[39;00m\n",
      "\u001b[1;31mKeyboardInterrupt\u001b[0m: "
     ]
    }
   ],
   "source": [
    "import numpy as np\n",
    "\n",
    "class FitnessTracker:\n",
    "  def __init__(self, steps, names=None):\n",
    "    self.steps = np.array(steps)\n",
    "    self.day, self.people= self.steps.shape\n",
    "    self.names = names\n",
    "\n",
    "  def total_steps_per_person(self):\n",
    "    return np.sum(self.steps, axis=0)\n",
    "\n",
    "  def total_steps_per_day(self):\n",
    "    return np.sum(self.steps, axis=1)\n",
    "\n",
    "  def average_per_person(self):\n",
    "    return np.average(self.steps, axis=0)\n",
    "\n",
    "  def best_day_overall(self):\n",
    "    day_avg= np.average(self.steps,axis=1)\n",
    "    best_day= np.argmax(day_avg)+1\n",
    "    return best_day\n",
    "\n",
    "  def person_max_on_day(self, day_index):\n",
    "    index = np.argmax(self.steps[day_index,:])\n",
    "    person_name= self.names[index]\n",
    "    return person_name\n",
    "\n",
    "  def days_over_threshold(self, threshold=10000):\n",
    "    return np.sum(self.steps>threshold,axis=0)\n",
    "\n",
    "  def percent_change_day(self, day1, day2):\n",
    "    percent=self.steps[day2,:]- self.steps[day1,:]/self.steps[day1,:]*100\n",
    "    return percent\n",
    "\n",
    "  def minmax_normalize_per_person(self):\n",
    "    min_values = np.min(self.steps,axis=0)\n",
    "    max_values = np.max(self.steps,axis=0)\n",
    "    nomalized=(self.steps-min_values)/(max_values - min_values)\n",
    "    return nomalized\n",
    "\n",
    "steps = np.array([[8000, 10000, 9500],\n",
    "                  [9000, 11000, 8700],\n",
    "                  [7500,  9800, 10200],\n",
    "                  [8200, 10500, 9700],\n",
    "                  [8800, 11500, 9400],\n",
    "                  [9100, 10800, 10100],\n",
    "                  [8500,  9900, 9800]])\n",
    "\n",
    "tracker = FitnessTracker(steps, names=['Alice', 'Bob', 'Charlie'])\n",
    "\n",
    "print(\"Total steps per person:\", tracker.total_steps_per_person())\n",
    "print(\"Total steps per day:\", tracker.total_steps_per_day())\n",
    "print(\"Average per person:\", tracker.average_per_person())\n",
    "print(\"Best day overall (highest avg):\", tracker.best_day_overall())\n",
    "print(\"Who walked the most on Day 5?\", tracker.person_max_on_day(4))\n",
    "print(\"Days each person >10k:\", tracker.days_over_threshold(10000))\n",
    "print(\"Percent change Day 1→Day 7:\", tracker.percent_change_day(0,6))\n",
    "print(\"Min-Max Normalized steps:\\n\", tracker.minmax_normalize_per_person())\n"
   ]
  },
  {
   "cell_type": "code",
   "execution_count": null,
   "metadata": {
    "id": "aA7EqAoao0i7"
   },
   "outputs": [],
   "source": []
  }
 ],
 "metadata": {
  "colab": {
   "provenance": []
  },
  "kernelspec": {
   "display_name": "Python 3",
   "language": "python",
   "name": "python3"
  },
  "language_info": {
   "codemirror_mode": {
    "name": "ipython",
    "version": 3
   },
   "file_extension": ".py",
   "mimetype": "text/x-python",
   "name": "python",
   "nbconvert_exporter": "python",
   "pygments_lexer": "ipython3",
   "version": "3.12.6"
  }
 },
 "nbformat": 4,
 "nbformat_minor": 1
}
