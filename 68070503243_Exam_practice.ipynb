{
 "cells": [
  {
   "cell_type": "code",
   "execution_count": 14,
   "id": "42e2c56c",
   "metadata": {},
   "outputs": [],
   "source": [
    "class Car:\n",
    "    def __init__(self, model, rent_per_day, available = True):\n",
    "        self.model = model\n",
    "        self.rent_per_day = rent_per_day\n",
    "        self.available = True\n",
    "    def rent(self, days):\n",
    "        if self.available:\n",
    "            total_cost = self.rent_per_day *days\n",
    "            print(\"Car rented.Total Cost is\", total_cost)\n",
    "        else:\n",
    "            return print(\"car not available\")\n",
    "        \n",
    "    def return_car(self):\n",
    "        self.available = True\n",
    "        print(\"Car returned\")\n",
    "\n",
    "    def display(self):\n",
    "        print(f\"Model:{self.model},rent_per_day:{self.rent_per_day},available:{self.available}\")\n",
    "my_car=Car(\"Toyota\", 80, True)"
   ]
  },
  {
   "cell_type": "code",
   "execution_count": 15,
   "id": "76014a80",
   "metadata": {},
   "outputs": [
    {
     "name": "stdout",
     "output_type": "stream",
     "text": [
      "Car rented.Total Cost is 400\n",
      "Model:Toyota,rent_per_day:80,available:True\n",
      "Car returned\n"
     ]
    }
   ],
   "source": [
    "my_car.rent(5)\n",
    "my_car.display()\n",
    "my_car.return_car()"
   ]
  },
  {
   "cell_type": "code",
   "execution_count": 18,
   "id": "79492c11",
   "metadata": {},
   "outputs": [
    {
     "name": "stdout",
     "output_type": "stream",
     "text": [
      "Name:Khaing Su Yin, Age:18\n",
      "Added Science with score87\n",
      "Added Math with score94\n",
      "Science: 87\n",
      "Math: 94\n",
      "Average Score: 90.5\n"
     ]
    }
   ],
   "source": [
    "class Person:\n",
    "    def __init__(self, name, age):\n",
    "        self.name = name\n",
    "        self.age = age\n",
    "    def display_info(self):\n",
    "        print(f\"Name:{self.name}, Age:{self.age}\")\n",
    "Info=Person(\"Khaing Su Yin\",18)\n",
    "\n",
    "class Student(Person):\n",
    "    def __init__(self, name, age):\n",
    "        super().__init__(name, age)\n",
    "        self.marks = {}\n",
    "    def add_mark(self, subject, score):\n",
    "        self.subject = subject\n",
    "        self.score =score\n",
    "        if subject not in self.marks:\n",
    "            self.marks[subject]= score\n",
    "            print(f\"Added {subject} with score{score}\")\n",
    "        else:\n",
    "            old_score = self.marks[subject]\n",
    "            self.marks[subject] = score\n",
    "            print(f\"Updated {subject} score from{old_score} to {score}\")\n",
    "    def display_marks(self):\n",
    "        for subject,score in self.marks.items():\n",
    "            print(f\"{subject}: {score}\")\n",
    "    def average_score(self):\n",
    "        if self.marks:\n",
    "            average = sum(self.marks.values()) / len(self.marks)\n",
    "            print(f\"Average Score: {average}\")\n",
    "        else:\n",
    "            print(\"No marks available.\")\n",
    "            return 0\n",
    "\n",
    "student=Student(\"Khaing Su Yin\", 18)    \n",
    "student.display_info()\n",
    "student.add_mark(\"Science\", 87) \n",
    "student.add_mark(\"Math\", 94)   \n",
    "student.display_marks()\n",
    "student.average_score()"
   ]
  }
 ],
 "metadata": {
  "kernelspec": {
   "display_name": "Python 3",
   "language": "python",
   "name": "python3"
  },
  "language_info": {
   "codemirror_mode": {
    "name": "ipython",
    "version": 3
   },
   "file_extension": ".py",
   "mimetype": "text/x-python",
   "name": "python",
   "nbconvert_exporter": "python",
   "pygments_lexer": "ipython3",
   "version": "3.12.6"
  }
 },
 "nbformat": 4,
 "nbformat_minor": 5
}
